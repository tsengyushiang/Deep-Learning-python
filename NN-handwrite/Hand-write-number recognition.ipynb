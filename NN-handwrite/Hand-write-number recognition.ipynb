{
 "cells": [
  {
   "cell_type": "code",
   "execution_count": 75,
   "metadata": {
    "scrolled": true
   },
   "outputs": [
    {
     "name": "stdout",
     "output_type": "stream",
     "text": [
      "env: KERAS_BACKEND=tensorflow\n"
     ]
    }
   ],
   "source": [
    "%env KERAS_BACKEND=tensorflow\n",
    "%matplotlib inline"
   ]
  },
  {
   "cell_type": "code",
   "execution_count": 81,
   "metadata": {
    "scrolled": true
   },
   "outputs": [
    {
     "name": "stdout",
     "output_type": "stream",
     "text": [
      "len :  60000\n",
      "shape :  (60000, 28, 28)\n",
      "Raw :  [[  0   0   0   0   0   0   0   0   0   0   0   0   0   0   0   0   0   0\n",
      "    0   0   0   0   0   0   0   0   0   0]\n",
      " [  0   0   0   0   0   0   0   0   0   0   0   0   0   0   0   0   0   0\n",
      "    0   0   0   0   0   0   0   0   0   0]\n",
      " [  0   0   0   0   0   0   0   0   0   0   0   0   0   0   0   0   0   0\n",
      "    0   0   0   0   0   0   0   0   0   0]\n",
      " [  0   0   0   0   0   0   0   0   0   0   0   0   0   0   0   0   0   0\n",
      "    0   0   0   0   0   0   0   0   0   0]\n",
      " [  0   0   0   0   0   0   0   0   0   0   0   0 240 253 165   0   0   0\n",
      "    0   0   0   0   0   0   0   0   0   0]\n",
      " [  0   0   0   0   0   0   0   0   0   0   0  32 241 252 252   0   0   0\n",
      "    0   0   0   0   0   0   0   0   0   0]\n",
      " [  0   0   0   0   0   0   0   0   0   0   2 141 252 252 252  98   0   0\n",
      "    0   0   0   0   0   0   0   0   0   0]\n",
      " [  0   0   0   0   0   0   0   0   0   0  30 252 252 252 252 149   0   0\n",
      "    0   0   0   0   0   0   0   0   0   0]\n",
      " [  0   0   0   0   0   0   0   0   0   0  21 217 252 252 252 149   0   0\n",
      "    0   0   0   0   0   0   0   0   0   0]\n",
      " [  0   0   0   0   0   0   0   0   0   0   0 134 252 252 252 223  31   0\n",
      "    0   0   0   0   0   0   0   0   0   0]\n",
      " [  0   0   0   0   0   0   0   0   0   0   0 134 252 252 252 253  44   0\n",
      "    0   0   0   0   0   0   0   0   0   0]\n",
      " [  0   0   0   0   0   0   0   0   0   0   0   8 239 252 252 253  44   0\n",
      "    0   0   0   0   0   0   0   0   0   0]\n",
      " [  0   0   0   0   0   0   0   0   0   0   0   0 238 252 252 253  44   0\n",
      "    0   0   0   0   0   0   0   0   0   0]\n",
      " [  0   0   0   0   0   0   0   0   0   0   0   0 238 252 252 253  44   0\n",
      "    0   0   0   0   0   0   0   0   0   0]\n",
      " [  0   0   0   0   0   0   0   0   0   0   0   0 178 253 253 255 106   0\n",
      "    0   0   0   0   0   0   0   0   0   0]\n",
      " [  0   0   0   0   0   0   0   0   0   0   0   0  90 252 252 253 206  21\n",
      "    0   0   0   0   0   0   0   0   0   0]\n",
      " [  0   0   0   0   0   0   0   0   0   0   0   0  90 252 252 253 252  88\n",
      "    0   0   0   0   0   0   0   0   0   0]\n",
      " [  0   0   0   0   0   0   0   0   0   0   0   0  90 252 252 253 252  88\n",
      "    0   0   0   0   0   0   0   0   0   0]\n",
      " [  0   0   0   0   0   0   0   0   0   0   0   0  63 234 252 253 252 220\n",
      "    0   0   0   0   0   0   0   0   0   0]\n",
      " [  0   0   0   0   0   0   0   0   0   0   0   0   0 176 252 253 252 237\n",
      "    0   0   0   0   0   0   0   0   0   0]\n",
      " [  0   0   0   0   0   0   0   0   0   0   0   0   0  45 252 253 252 245\n",
      "   71   0   0   0   0   0   0   0   0   0]\n",
      " [  0   0   0   0   0   0   0   0   0   0   0   0   0  29 215 253 252 237\n",
      "    8   0   0   0   0   0   0   0   0   0]\n",
      " [  0   0   0   0   0   0   0   0   0   0   0   0   0   0 149 253 252 237\n",
      "    0   0   0   0   0   0   0   0   0   0]\n",
      " [  0   0   0   0   0   0   0   0   0   0   0   0   0   0  61 165 252 237\n",
      "    0   0   0   0   0   0   0   0   0   0]\n",
      " [  0   0   0   0   0   0   0   0   0   0   0   0   0   0   0   0   0   0\n",
      "    0   0   0   0   0   0   0   0   0   0]\n",
      " [  0   0   0   0   0   0   0   0   0   0   0   0   0   0   0   0   0   0\n",
      "    0   0   0   0   0   0   0   0   0   0]\n",
      " [  0   0   0   0   0   0   0   0   0   0   0   0   0   0   0   0   0   0\n",
      "    0   0   0   0   0   0   0   0   0   0]\n",
      " [  0   0   0   0   0   0   0   0   0   0   0   0   0   0   0   0   0   0\n",
      "    0   0   0   0   0   0   0   0   0   0]]\n",
      "dimension after reshape :  (60000, 784)\n"
     ]
    },
    {
     "data": {
      "image/png": "[encoded data removed]",
      "text/plain": [
       "<Figure size 432x288 with 1 Axes>"
      ]
     },
     "metadata": {
      "needs_background": "light"
     },
     "output_type": "display_data"
    }
   ],
   "source": [
    "#print raw dataset\n",
    "\n",
    "import numpy as np\n",
    "import matplotlib.pyplot as plt\n",
    "from keras.datasets import mnist\n",
    "\n",
    "(x_train, y_train), (x_test, y_test) = mnist.load_data()\n",
    "\n",
    "print('len : ',len(x_train))\n",
    "print('shape : ',x_train.shape)\n",
    "print('Raw : ',x_train[9487])\n",
    "plt.imshow(x_train[9487],cmap='Greys')\n",
    "\n",
    "#convert dimension from 28*28 to 1*768\n",
    "x_train = x_train.reshape(60000,28*28)\n",
    "x_test = x_test.reshape(10000,28*28)\n",
    "print('dimension after reshape : ',x_train.shape)"
   ]
  },
  {
   "cell_type": "code",
   "execution_count": 82,
   "metadata": {},
   "outputs": [
    {
     "name": "stdout",
     "output_type": "stream",
     "text": [
      "origion :  1\n",
      "tranform to 1-hot encoding :  [0. 1. 0. 0. 0. 0. 0. 0. 0. 0.]\n"
     ]
    }
   ],
   "source": [
    "'''\n",
    "transfrom to 1-hot encoding\n",
    "- 1 -> [0,1,0,0,0,0,0]\n",
    "- 5 -> [0,0,0,0,0,1,0]\n",
    "'''\n",
    "\n",
    "from keras.utils import np_utils\n",
    "\n",
    "(x_train, y_train), (x_test, y_test) = mnist.load_data()\n",
    "\n",
    "print('origion : ',y_train[9487])\n",
    "y_train = np_utils.to_categorical(y_train,10)\n",
    "y_test = np_utils.to_categorical(y_test,10)\n",
    "print('tranform to 1-hot encoding : ',y_train[9487])"
   ]
  },
  {
   "cell_type": "code",
   "execution_count": null,
   "metadata": {
    "scrolled": true
   },
   "outputs": [
    {
     "name": "stdout",
     "output_type": "stream",
     "text": [
      "Model: \"sequential_2\"\n",
      "_________________________________________________________________\n",
      "Layer (type)                 Output Shape              Param #   \n",
      "=================================================================\n",
      "dense_1 (Dense)              (None, 500)               392500    \n",
      "_________________________________________________________________\n",
      "activation_1 (Activation)    (None, 500)               0         \n",
      "_________________________________________________________________\n",
      "dense_2 (Dense)              (None, 500)               250500    \n",
      "_________________________________________________________________\n",
      "activation_2 (Activation)    (None, 500)               0         \n",
      "_________________________________________________________________\n",
      "dense_3 (Dense)              (None, 10)                5010      \n",
      "_________________________________________________________________\n",
      "activation_3 (Activation)    (None, 10)                0         \n",
      "=================================================================\n",
      "Total params: 648,010\n",
      "Trainable params: 648,010\n",
      "Non-trainable params: 0\n",
      "_________________________________________________________________\n",
      "Epoch 1/20\n",
      "60000/60000 [==============================] - 4s 67us/step - loss: 0.0833 - accuracy: 0.3567\n",
      "Epoch 2/20\n",
      "20800/60000 [=========>....................] - ETA: 2s - loss: 0.0704 - accuracy: 0.5637"
     ]
    }
   ],
   "source": [
    "# train my model\n",
    "\n",
    "# 標準型的NN\n",
    "from keras.models import Sequential\n",
    "\n",
    "# fully connected NN - Dense\n",
    "from keras.layers import Dense, Activation\n",
    "\n",
    "# method to learn, 隨機梯度下降(Stochastic gradient descent)\n",
    "from keras.optimizers import SGD\n",
    "\n",
    "#import training data and change format\n",
    "from keras.datasets import mnist\n",
    "from keras.utils import np_utils\n",
    "\n",
    "(x_train, y_train), (x_test, y_test) = mnist.load_data()\n",
    "x_train = x_train.reshape(60000,28*28)\n",
    "y_train = np_utils.to_categorical(y_train,10)\n",
    "x_test = x_test.reshape(10000,28*28)\n",
    "y_test = np_utils.to_categorical(y_test,10)\n",
    "\n",
    "model = Sequential()\n",
    "\n",
    "# add first hideden layer\n",
    "\n",
    "nodecount = 500\n",
    "model.add(Dense(nodecount,input_dim=784))\n",
    "model.add(Activation('sigmoid'))\n",
    "\n",
    "# add second hidden layer, 此層不用input_dim因為已知從上一層輸出來的\n",
    "\n",
    "model.add(Dense(nodecount))\n",
    "model.add(Activation('sigmoid'))\n",
    "\n",
    "# output 1-hot encoding\n",
    "\n",
    "model.add(Dense(10))\n",
    "# let total count equal 1 : use softmax method\n",
    "model.add(Activation('softmax'))\n",
    "\n",
    "\n",
    "SGD_learningRate = 0.1\n",
    "model.compile(loss='mse',\n",
    "              optimizer=SGD(lr=SGD_learningRate),\n",
    "             metrics=['accuracy'])  #目前正確率\n",
    "\n",
    "model.summary()\n",
    "'''\n",
    "output Param# :\n",
    "    392500 : 784(input)*500(firstlayer) + 500(bias)\n",
    "    250500 : 500(firstlayer)*500(secondlayer) +500(bias)\n",
    "    5010 : 500(secondlayer)*10(output) + 10(bias)\n",
    "'''\n",
    "\n",
    "# batch_size : 60000比data不會一次用而是分多次batch輸入\n",
    "# epoches : 訓練幾次\n",
    "model.fit(x_train, y_train, batch_size=100, epochs=20)"
   ]
  },
  {
   "cell_type": "code",
   "execution_count": 1,
   "metadata": {},
   "outputs": [
    {
     "name": "stderr",
     "output_type": "stream",
     "text": [
      "Using TensorFlow backend.\n"
     ]
    }
   ],
   "source": [
    "# use store models and weight\n",
    "from keras.models import Sequential\n",
    "from keras.models import model_from_json\n",
    "\n",
    "with open('handwriting_model_architecture.json', \"r\") as text_file:\n",
    "    json_string = text_file.read()\n",
    "    model = Sequential()\n",
    "    model = model_from_json(json_string)\n",
    "    model.load_weights('handwriting_model_weights.h5', by_name=False)\n",
    "\n",
    "\n",
    "#import training data and change format\n",
    "from keras.datasets import mnist\n",
    "from keras.utils import np_utils\n",
    "\n",
    "(x_train, y_train), (x_test, y_test) = mnist.load_data()\n",
    "x_train = x_train.reshape(60000,28*28)\n",
    "y_train = np_utils.to_categorical(y_train,10)\n",
    "x_test = x_test.reshape(10000,28*28)\n",
    "y_test = np_utils.to_categorical(y_test,10)"
   ]
  },
  {
   "cell_type": "code",
   "execution_count": 4,
   "metadata": {},
   "outputs": [
    {
     "data": {
      "application/vnd.jupyter.widget-view+json": {
       "model_id": "b17e712469c34173878e29103aa13571",
       "version_major": 2,
       "version_minor": 0
      },
      "text/plain": [
       "interactive(children=(IntSlider(value=4999, description='testNumber', max=9999), Button(description='Run Inter…"
      ]
     },
     "metadata": {},
     "output_type": "display_data"
    }
   ],
   "source": [
    "from ipywidgets import interact_manual\n",
    "import matplotlib.pyplot as plt\n",
    "\n",
    "# test trained model\n",
    "predict = model.predict_classes(x_test)\n",
    "\n",
    "# show result and image\n",
    "def test(testNumber):\n",
    "    plt.imshow(x_test[testNumber].reshape(28,28),cmap='Greys')\n",
    "    print(\"NN judge : \", predict[testNumber] )\n",
    "\n",
    "interact_manual(test,testNumber=(0,9999));"
   ]
  },
  {
   "cell_type": "code",
   "execution_count": 8,
   "metadata": {},
   "outputs": [],
   "source": [
    "# store trained model\n",
    "\n",
    "model_json = model.to_json()\n",
    "open('handwriting_model_architecture.json','w').write(model_json)\n",
    "model.save_weights('handwriting_model_weights.h5')"
   ]
  }
 ],
 "metadata": {
  "kernelspec": {
   "display_name": "Python 3",
   "language": "python",
   "name": "python3"
  },
  "language_info": {
   "codemirror_mode": {
    "name": "ipython",
    "version": 3
   },
   "file_extension": ".py",
   "mimetype": "text/x-python",
   "name": "python",
   "nbconvert_exporter": "python",
   "pygments_lexer": "ipython3",
   "version": "3.7.3"
  }
 },
 "nbformat": 4,
 "nbformat_minor": 2
}
