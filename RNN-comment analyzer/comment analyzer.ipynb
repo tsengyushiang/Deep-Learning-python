{
 "cells": [
  {
   "cell_type": "code",
   "execution_count": 4,
   "metadata": {},
   "outputs": [
    {
     "name": "stdout",
     "output_type": "stream",
     "text": [
      "env: KERAS_BACKEND=tensorflow\n"
     ]
    },
    {
     "name": "stderr",
     "output_type": "stream",
     "text": [
      "UsageError: Line magic function `%matplotliv` not found.\n"
     ]
    }
   ],
   "source": [
    "%env KERAS_BACKEND=tensorflow\n",
    "%matplotliv inline\n",
    "import numpy as np\n",
    "import matplotlib.pyplot as plt"
   ]
  },
  {
   "cell_type": "code",
   "execution_count": 5,
   "metadata": {},
   "outputs": [
    {
     "name": "stdout",
     "output_type": "stream",
     "text": [
      "train data count :  25000\n",
      "test data count :  25000\n",
      "input data 99:  [1, 1230, 3765, 566, 97, 189, 102, 86, 7, 32, 4, 973, 16, 55, 355, 18, 14, 20, 4, 64, 542, 173, 16, 4, 893, 2115, 5376, 250, 39, 8013, 4, 1362, 2, 14, 102, 47, 57, 599, 633, 6, 1317, 2, 8, 6, 189, 20, 57, 206, 57, 116, 5, 57, 836, 82, 6, 1317, 2, 3728, 2, 9, 6, 52, 284, 21, 29, 9, 38, 2245, 5, 1044, 11, 14, 15, 45, 619, 50, 71, 6, 171, 531, 15, 71, 424, 8, 30, 163, 6211, 4, 1629, 189, 212, 102, 5, 57, 31, 1498, 11, 4, 311, 13, 197, 15, 14, 20, 16, 1150, 1479, 5, 13, 161, 990, 692, 5, 1706, 12, 69, 77, 1194, 8, 3245, 2001, 553, 67, 14, 20, 48, 25, 423, 13, 131, 124, 51, 25, 122, 236, 1506, 198, 4, 64, 552, 7, 415, 37, 62, 169, 14, 20, 60, 2602, 629, 5, 615, 14, 9, 8, 25, 1230, 3765, 570, 231, 189, 102, 14, 20, 166, 2039, 168, 40, 2450, 5486, 3298]\n",
      "218, 189, 141, 550, 147, 43, 123, 562, 233, 130, \n",
      "output data:  [1 0 0 1 0 0 1 0 1 0]\n",
      "after preprocess dimension:  (25000, 100)\n"
     ]
    }
   ],
   "source": [
    "from keras.datasets import imdb\n",
    "from keras.preprocessing import sequence\n",
    "\n",
    "# param : 取最常出現的10000個字\n",
    "(x_train, y_train),(x_test, y_test) = imdb.load_data(num_words=10000)\n",
    "\n",
    "print('train data count : ',len(x_train))\n",
    "print('test data count : ',len(x_test))\n",
    "\n",
    "# input data 以出現頻率代替文字\n",
    "print('input data 99: ',x_train[99])\n",
    "for i in range(0,10):\n",
    "    # input data has different input\n",
    "    print(len(x_train[i]),end=', ')\n",
    "\n",
    "print('\\noutput data: ',y_train[:10])\n",
    "\n",
    "\n",
    "# 雖然RNN可接受不同長度input, 怕太長用看前100字判斷就好,太短則會補0\n",
    "x_train =sequence.pad_sequences(x_train,maxlen=100)\n",
    "x_test = sequence.pad_sequences(x_test,maxlen=100)\n",
    "print('after preprocess dimension: ',x_train.shape)"
   ]
  },
  {
   "cell_type": "code",
   "execution_count": 31,
   "metadata": {},
   "outputs": [
    {
     "name": "stdout",
     "output_type": "stream",
     "text": [
      "Model: \"sequential_8\"\n",
      "_________________________________________________________________\n",
      "Layer (type)                 Output Shape              Param #   \n",
      "=================================================================\n",
      "embedding_8 (Embedding)      (None, None, 128)         1280000   \n",
      "_________________________________________________________________\n",
      "lstm_8 (LSTM)                (None, 150)               167400    \n",
      "_________________________________________________________________\n",
      "dense_8 (Dense)              (None, 1)                 151       \n",
      "=================================================================\n",
      "Total params: 1,447,551\n",
      "Trainable params: 1,447,551\n",
      "Non-trainable params: 0\n",
      "_________________________________________________________________\n",
      "Epoch 1/15\n",
      "25000/25000 [==============================] - 116s 5ms/step - loss: 0.4162 - accuracy: 0.8098\n",
      "Epoch 2/15\n",
      "25000/25000 [==============================] - 109s 4ms/step - loss: 0.2670 - accuracy: 0.8936\n",
      "Epoch 3/15\n",
      "25000/25000 [==============================] - 109s 4ms/step - loss: 0.1948 - accuracy: 0.9240\n",
      "Epoch 4/15\n",
      "25000/25000 [==============================] - 108s 4ms/step - loss: 0.1386 - accuracy: 0.9492\n",
      "Epoch 5/15\n",
      "25000/25000 [==============================] - 109s 4ms/step - loss: 0.0950 - accuracy: 0.9661\n",
      "Epoch 6/15\n",
      "25000/25000 [==============================] - 109s 4ms/step - loss: 0.0702 - accuracy: 0.9763\n",
      "Epoch 7/15\n",
      "25000/25000 [==============================] - 109s 4ms/step - loss: 0.0565 - accuracy: 0.9811\n",
      "Epoch 8/15\n",
      "25000/25000 [==============================] - 109s 4ms/step - loss: 0.0426 - accuracy: 0.9858\n",
      "Epoch 9/15\n",
      "25000/25000 [==============================] - 110s 4ms/step - loss: 0.0269 - accuracy: 0.9916\n",
      "Epoch 10/15\n",
      "25000/25000 [==============================] - 110s 4ms/step - loss: 0.0252 - accuracy: 0.9912\n",
      "Epoch 11/15\n",
      "25000/25000 [==============================] - 110s 4ms/step - loss: 0.0233 - accuracy: 0.9927\n",
      "Epoch 12/15\n",
      "25000/25000 [==============================] - 109s 4ms/step - loss: 0.0193 - accuracy: 0.9940\n",
      "Epoch 13/15\n",
      "25000/25000 [==============================] - 108s 4ms/step - loss: 0.0229 - accuracy: 0.9927\n",
      "Epoch 14/15\n",
      "25000/25000 [==============================] - 111s 4ms/step - loss: 0.0107 - accuracy: 0.9968\n",
      "Epoch 15/15\n",
      "25000/25000 [==============================] - 114s 5ms/step - loss: 0.0141 - accuracy: 0.9958\n"
     ]
    }
   ],
   "source": [
    "from keras.models import Sequential\n",
    "\n",
    "# Embedding 用來將文字 降維\n",
    "from keras.layers import Dense, Embedding\n",
    "\n",
    "# LSTM 是RNN的一種\n",
    "from keras.layers import LSTM\n",
    "\n",
    "model = Sequential()\n",
    "\n",
    "# 將input的10000維變成128維\n",
    "model.add(Embedding(10000,128))\n",
    "\n",
    "model.add(LSTM(150))\n",
    "\n",
    "model.add(Dense(1,activation='sigmoid'))\n",
    "\n",
    "model.summary()\n",
    "\n",
    "'''\n",
    "LSTM Param的 167400  : \n",
    "\n",
    "step 1. 3(gates)*(128(上層)+150(鄰居)+1(bias))*150個cell = 125550\n",
    "        gates : 控制資料流量通過多少 0~1\n",
    "step 2. (128+150+1)*150 = 41850\n",
    "step 3. 125550 + 41850 = 167400\n",
    "'''\n",
    "\n",
    "model.compile(loss='binary_crossentropy',\n",
    "             optimizer='adam',\n",
    "             metrics=['accuracy'])\n",
    "\n",
    "model.fit(x_train,y_train,batch_size=32,epochs=15)\n",
    "\n",
    "model.save('myRNN.h5')"
   ]
  },
  {
   "cell_type": "code",
   "execution_count": 6,
   "metadata": {},
   "outputs": [],
   "source": [
    "from keras.models import load_model\n",
    "model = load_model('myRNN.h5')"
   ]
  },
  {
   "cell_type": "code",
   "execution_count": 7,
   "metadata": {},
   "outputs": [
    {
     "name": "stdout",
     "output_type": "stream",
     "text": [
      "25000/25000 [==============================] - 39s 2ms/step\n"
     ]
    }
   ],
   "source": [
    "score = model.evaluate(x_test,y_test)"
   ]
  },
  {
   "cell_type": "code",
   "execution_count": 9,
   "metadata": {},
   "outputs": [
    {
     "name": "stdout",
     "output_type": "stream",
     "text": [
      "loss 1.0401277062165737\n",
      "accuracy 0.8274400234222412\n"
     ]
    }
   ],
   "source": [
    "print('loss',score[0])\n",
    "print('accuracy',score[1])"
   ]
  },
  {
   "cell_type": "code",
   "execution_count": null,
   "metadata": {},
   "outputs": [],
   "source": []
  }
 ],
 "metadata": {
  "kernelspec": {
   "display_name": "Python 3",
   "language": "python",
   "name": "python3"
  },
  "language_info": {
   "codemirror_mode": {
    "name": "ipython",
    "version": 3
   },
   "file_extension": ".py",
   "mimetype": "text/x-python",
   "name": "python",
   "nbconvert_exporter": "python",
   "pygments_lexer": "ipython3",
   "version": "3.7.3"
  }
 },
 "nbformat": 4,
 "nbformat_minor": 2
}
