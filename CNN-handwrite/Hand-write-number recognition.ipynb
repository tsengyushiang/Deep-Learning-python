{
 "cells": [
  {
   "cell_type": "code",
   "execution_count": 4,
   "metadata": {},
   "outputs": [
    {
     "name": "stdout",
     "output_type": "stream",
     "text": [
      "env: KERAS_BACKEND=tensorflow\n"
     ]
    },
    {
     "name": "stderr",
     "output_type": "stream",
     "text": [
      "Using TensorFlow backend.\n"
     ]
    }
   ],
   "source": [
    "%env KERAS_BACKEND=tensorflow\n",
    "%matplotlib inline\n",
    "\n",
    "import numpy as np\n",
    "import matplotlib.pyplot as plt"
   ]
  },
  {
   "cell_type": "code",
   "execution_count": null,
   "metadata": {},
   "outputs": [],
   "source": [
    "# use store models and weight\n",
    "from keras.models import Sequential\n",
    "from keras.models import model_from_json\n",
    "\n",
    "with open('handwriting_model_cnn.json', \"r\") as text_file:\n",
    "    json_string = text_file.read()\n",
    "    model = Sequential()\n",
    "    model = model_from_json(json_string)\n",
    "    model.load_weights('handwriting_weights_cnn.h5', by_name=False)"
   ]
  },
  {
   "cell_type": "code",
   "execution_count": 16,
   "metadata": {},
   "outputs": [
    {
     "name": "stdout",
     "output_type": "stream",
     "text": [
      "add one channel :  (28, 28, 1)\n",
      "origion :  1\n",
      "tranform to 1-hot encoding :  [0. 1. 0. 0. 0. 0. 0. 0. 0. 0.]\n"
     ]
    },
    {
     "data": {
      "image/png": "[encoded data removed]",
      "text/plain": [
       "<Figure size 432x288 with 1 Axes>"
      ]
     },
     "metadata": {
      "needs_background": "light"
     },
     "output_type": "display_data"
    }
   ],
   "source": [
    "from keras.datasets import mnist\n",
    "from keras.utils import np_utils\n",
    "\n",
    "(x_train, y_train), (x_test, y_test) = mnist.load_data()\n",
    "\n",
    "# expand input to one-channel format \n",
    "\n",
    "x_train = x_train.reshape(60000,28,28,1)\n",
    "x_test = x_test.reshape(10000,28,28,1)\n",
    "print(\"add one channel : \",x_train[9487].shape)\n",
    "\n",
    "# extrude matrix only to display image\n",
    "\n",
    "X = x_train[9487][:,:,0]\n",
    "plt.imshow(X,cmap='Greys')\n",
    "\n",
    "# tranform output to 1-hot encoding\n",
    "\n",
    "print('origion : ',y_train[9487])\n",
    "y_train = np_utils.to_categorical(y_train,10)\n",
    "y_test = np_utils.to_categorical(y_test,10)\n",
    "#print('tranform to 1-hot encoding : ',y_train[9487])"
   ]
  },
  {
   "cell_type": "code",
   "execution_count": 23,
   "metadata": {
    "scrolled": true
   },
   "outputs": [
    {
     "name": "stdout",
     "output_type": "stream",
     "text": [
      "Model: \"sequential_7\"\n",
      "_________________________________________________________________\n",
      "Layer (type)                 Output Shape              Param #   \n",
      "=================================================================\n",
      "conv2d_19 (Conv2D)           (None, 28, 28, 32)        320       \n",
      "_________________________________________________________________\n",
      "activation_31 (Activation)   (None, 28, 28, 32)        0         \n",
      "_________________________________________________________________\n",
      "max_pooling2d_19 (MaxPooling (None, 14, 14, 32)        0         \n",
      "_________________________________________________________________\n",
      "conv2d_20 (Conv2D)           (None, 14, 14, 64)        18496     \n",
      "_________________________________________________________________\n",
      "activation_32 (Activation)   (None, 14, 14, 64)        0         \n",
      "_________________________________________________________________\n",
      "max_pooling2d_20 (MaxPooling (None, 7, 7, 64)          0         \n",
      "_________________________________________________________________\n",
      "conv2d_21 (Conv2D)           (None, 7, 7, 128)         73856     \n",
      "_________________________________________________________________\n",
      "activation_33 (Activation)   (None, 7, 7, 128)         0         \n",
      "_________________________________________________________________\n",
      "max_pooling2d_21 (MaxPooling (None, 3, 3, 128)         0         \n",
      "_________________________________________________________________\n",
      "flatten_7 (Flatten)          (None, 1152)              0         \n",
      "_________________________________________________________________\n",
      "dense_13 (Dense)             (None, 200)               230600    \n",
      "_________________________________________________________________\n",
      "activation_34 (Activation)   (None, 200)               0         \n",
      "_________________________________________________________________\n",
      "dense_14 (Dense)             (None, 10)                2010      \n",
      "_________________________________________________________________\n",
      "activation_35 (Activation)   (None, 10)                0         \n",
      "=================================================================\n",
      "Total params: 325,282\n",
      "Trainable params: 325,282\n",
      "Non-trainable params: 0\n",
      "_________________________________________________________________\n",
      "WARNING:tensorflow:From C:\\Users\\tseng\\Anaconda3\\lib\\site-packages\\keras\\backend\\tensorflow_backend.py:422: The name tf.global_variables is deprecated. Please use tf.compat.v1.global_variables instead.\n",
      "\n",
      "Epoch 1/12\n",
      "60000/60000 [==============================] - 43s 718us/step - loss: 0.1804 - accuracy: 0.0971\n",
      "Epoch 2/12\n",
      "60000/60000 [==============================] - 40s 675us/step - loss: 0.1804 - accuracy: 0.0975\n",
      "Epoch 3/12\n",
      "60000/60000 [==============================] - 40s 671us/step - loss: 0.1805 - accuracy: 0.0974\n",
      "Epoch 4/12\n",
      "60000/60000 [==============================] - 43s 719us/step - loss: 0.1805 - accuracy: 0.0975\n",
      "Epoch 5/12\n",
      "60000/60000 [==============================] - 41s 675us/step - loss: 0.0881 - accuracy: 0.5066\n",
      "Epoch 6/12\n",
      "60000/60000 [==============================] - 41s 675us/step - loss: 0.0064 - accuracy: 0.9577\n",
      "Epoch 7/12\n",
      "60000/60000 [==============================] - 41s 682us/step - loss: 0.0041 - accuracy: 0.9733\n",
      "Epoch 8/12\n",
      "60000/60000 [==============================] - 40s 665us/step - loss: 0.0031 - accuracy: 0.9805\n",
      "Epoch 9/12\n",
      "60000/60000 [==============================] - 37s 617us/step - loss: 0.0025 - accuracy: 0.9840\n",
      "Epoch 10/12\n",
      "60000/60000 [==============================] - 37s 622us/step - loss: 0.0020 - accuracy: 0.9872s - loss: 0.0020 - ac\n",
      "Epoch 11/12\n",
      "60000/60000 [==============================] - 36s 600us/step - loss: 0.0017 - accuracy: 0.9894\n",
      "Epoch 12/12\n",
      "60000/60000 [==============================] - 36s 597us/step - loss: 0.0015 - accuracy: 0.9913\n"
     ]
    },
    {
     "data": {
      "text/plain": [
       "<keras.callbacks.callbacks.History at 0x2b59ecb8eb8>"
      ]
     },
     "execution_count": 23,
     "metadata": {},
     "output_type": "execute_result"
    }
   ],
   "source": [
    "#impelement CNN\n",
    "\n",
    "from keras.models import Sequential\n",
    "\n",
    "#Flatten : CNN做完的數個小矩陣, 拉成整個向量在送進Dense層\n",
    "from keras.layers import Dense, Activation,Flatten\n",
    "\n",
    "from keras.layers import Conv2D, MaxPooling2D\n",
    "from keras.optimizers import SGD\n",
    "\n",
    "# Conv32-pooling-Conv64-poolnig-Conv128-pooling-flatten\n",
    "model = Sequential()\n",
    "\n",
    "# Conv2D : filter個數,大小(n,n) padding=same 表示輸出大小同輸入\n",
    "model.add(Conv2D(32,(3,3),padding ='same',input_shape=(28,28,1)))\n",
    "model.add(Activation('relu'))\n",
    "\n",
    "model.add(MaxPooling2D(pool_size=(2,2)))\n",
    "\n",
    "model.add(Conv2D(64,(3,3),padding ='same'))\n",
    "model.add(Activation('relu'))\n",
    "\n",
    "model.add(MaxPooling2D(pool_size=(2,2)))\n",
    "\n",
    "\n",
    "model.add(Conv2D(128,(3,3),padding ='same'))\n",
    "model.add(Activation('relu'))\n",
    "\n",
    "model.add(MaxPooling2D(pool_size=(2,2)))\n",
    "\n",
    "model.add(Flatten())\n",
    "model.add(Dense(200))\n",
    "model.add(Activation('relu'))\n",
    "\n",
    "model.add(Dense(10))\n",
    "model.add(Activation('softmax'))\n",
    "\n",
    "model.compile(loss='mse',optimizer=SGD(lr=0.05),metrics=['accuracy'])\n",
    "\n",
    "model.summary()\n",
    "\n",
    "'''\n",
    "output Param:\n",
    "(3x3+1)(filter kernal + bias)*32(filter count)\n",
    "'''\n",
    "\n",
    "model.fit(x_train, y_train,batch_size=100,epochs=12)\n"
   ]
  },
  {
   "cell_type": "code",
   "execution_count": 25,
   "metadata": {},
   "outputs": [
    {
     "name": "stdout",
     "output_type": "stream",
     "text": [
      "10000/10000 [==============================] - 2s 233us/step\n",
      "loss 0.002208280109735586\n",
      "acc 0.9857000112533569\n"
     ]
    }
   ],
   "source": [
    "#show result\n",
    "\n",
    "score = model.evaluate(x_test,y_test)\n",
    "print('loss',score[0])\n",
    "print('acc',score[1])"
   ]
  },
  {
   "cell_type": "code",
   "execution_count": 27,
   "metadata": {},
   "outputs": [],
   "source": [
    "model_json = model.to_json()\n",
    "open('handwriting_model_cnn.json','w').write(model_json)\n",
    "model.save_weights('handwriting_weights_cnn.h5')"
   ]
  },
  {
   "cell_type": "code",
   "execution_count": 30,
   "metadata": {},
   "outputs": [
    {
     "data": {
      "image/png": "[encoded data removed]",
      "text/plain": [
       "<Figure size 432x288 with 5 Axes>"
      ]
     },
     "metadata": {
      "needs_background": "light"
     },
     "output_type": "display_data"
    }
   ],
   "source": [
    "predict = model.predict_classes(x_test)\n",
    "pick = np.random.randint(1,9999,5)\n",
    "for i in range(5):\n",
    "    plt.subplot(1,5,i+1)\n",
    "    plt.imshow(x_test[pick[i]].reshape(28,28),cmap='Greys')\n",
    "    plt.title(predict[pick[i]])\n",
    "    plt.axis(\"off\")"
   ]
  },
  {
   "cell_type": "code",
   "execution_count": null,
   "metadata": {},
   "outputs": [],
   "source": []
  }
 ],
 "metadata": {
  "kernelspec": {
   "display_name": "Python 3",
   "language": "python",
   "name": "python3"
  },
  "language_info": {
   "codemirror_mode": {
    "name": "ipython",
    "version": 3
   },
   "file_extension": ".py",
   "mimetype": "text/x-python",
   "name": "python",
   "nbconvert_exporter": "python",
   "pygments_lexer": "ipython3",
   "version": "3.7.3"
  }
 },
 "nbformat": 4,
 "nbformat_minor": 2
}
