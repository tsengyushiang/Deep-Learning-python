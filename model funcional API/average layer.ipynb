{
 "cells": [
  {
   "cell_type": "code",
   "execution_count": 28,
   "metadata": {},
   "outputs": [
    {
     "name": "stdout",
     "output_type": "stream",
     "text": [
      "env: KERAS_BACKEND=tensorflow\n",
      "average_layer :  <keras.layers.core.Lambda object at 0x0000021C84BF15F8>\n",
      "Model: \"model_14\"\n",
      "_________________________________________________________________\n",
      "Layer (type)                 Output Shape              Param #   \n",
      "=================================================================\n",
      "input_14 (InputLayer)        (None, 4)                 0         \n",
      "_________________________________________________________________\n",
      "lambda_20 (Lambda)           (None, 1)                 0         \n",
      "=================================================================\n",
      "Total params: 0\n",
      "Trainable params: 0\n",
      "Non-trainable params: 0\n",
      "_________________________________________________________________\n",
      "data :  (2, 4)\n"
     ]
    },
    {
     "data": {
      "text/plain": [
       "array([2.5, 1. ], dtype=float32)"
      ]
     },
     "execution_count": 28,
     "metadata": {},
     "output_type": "execute_result"
    }
   ],
   "source": [
    "%env KERAS_BACKEND = tensorflow\n",
    "%matplotlib inline\n",
    "\n",
    "import numpy as np\n",
    "import matplotlib.pyplot as plt\n",
    "\n",
    "from keras.models import Input\n",
    "\n",
    "# pack function to netwrok\n",
    "from keras.layers.core import Lambda\n",
    "\n",
    "# tensorflow 常用的功能\n",
    "from keras import backend as K\n",
    "\n",
    "def average_function(input):\n",
    "    return K.mean(input,axis=1)\n",
    "\n",
    "# error : average_function(np.array[1,3]) 因為用 k.mean 僅接受 tensor 下的 basetype, 而 np下沒有\n",
    "average_layer = Lambda(average_function,output_shape=(1,))\n",
    "print('average_layer : ',average_layer)\n",
    "\n",
    "# input 4維向量 output: 1維向量\n",
    "inputSize = 4\n",
    "\n",
    "x = Input(shape=(inputSize,))\n",
    "y = average_layer(x)\n",
    "average_model = Model(x,y)\n",
    "average_model.summary()\n",
    "\n",
    "average_model.compile(loss='mse',optimizer='sgd')\n",
    "\n",
    "data = np.array([[1,2,3,4],[1,1,1,1]])\n",
    "print('data : ',data.shape)\n",
    "\n",
    "average_model.predict(data)"
   ]
  },
  {
   "cell_type": "code",
   "execution_count": null,
   "metadata": {},
   "outputs": [],
   "source": []
  }
 ],
 "metadata": {
  "kernelspec": {
   "display_name": "Python 3",
   "language": "python",
   "name": "python3"
  },
  "language_info": {
   "codemirror_mode": {
    "name": "ipython",
    "version": 3
   },
   "file_extension": ".py",
   "mimetype": "text/x-python",
   "name": "python",
   "nbconvert_exporter": "python",
   "pygments_lexer": "ipython3",
   "version": "3.7.3"
  }
 },
 "nbformat": 4,
 "nbformat_minor": 2
}
