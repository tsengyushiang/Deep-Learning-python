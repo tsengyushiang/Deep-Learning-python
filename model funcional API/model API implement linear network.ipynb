{
 "cells": [
  {
   "cell_type": "code",
   "execution_count": 29,
   "metadata": {},
   "outputs": [
    {
     "name": "stdout",
     "output_type": "stream",
     "text": [
      "env: KERAS_BACKEND=tensorflow\n",
      "datas :  (60000, 784) (10000, 784) (60000, 10) (10000, 10)\n",
      "f_1 :  <keras.layers.core.Dense object at 0x00000171A7A79C50>\n",
      "x :  Tensor(\"input_12:0\", shape=(?, 784), dtype=float32)\n",
      "h_1 :  Tensor(\"dense_49/Sigmoid:0\", shape=(?, 500), dtype=float32)\n",
      "h_2 :  Tensor(\"dense_50/Sigmoid:0\", shape=(?, 500), dtype=float32)\n",
      "y :  Tensor(\"dense_51/Softmax:0\", shape=(?, 10), dtype=float32)\n",
      "Model: \"model_5\"\n",
      "_________________________________________________________________\n",
      "Layer (type)                 Output Shape              Param #   \n",
      "=================================================================\n",
      "input_12 (InputLayer)        (None, 784)               0         \n",
      "_________________________________________________________________\n",
      "dense_49 (Dense)             (None, 500)               392500    \n",
      "_________________________________________________________________\n",
      "dense_50 (Dense)             (None, 500)               250500    \n",
      "_________________________________________________________________\n",
      "dense_51 (Dense)             (None, 10)                5010      \n",
      "=================================================================\n",
      "Total params: 648,010\n",
      "Trainable params: 648,010\n",
      "Non-trainable params: 0\n",
      "_________________________________________________________________\n",
      "Epoch 1/10\n",
      "60000/60000 [==============================] - 4s 68us/step - loss: 0.0827 - accuracy: 0.3473\n",
      "Epoch 2/10\n",
      "60000/60000 [==============================] - 4s 64us/step - loss: 0.0641 - accuracy: 0.6563 0s - loss: 0.0644 - accuracy: 0.\n",
      "Epoch 3/10\n",
      "60000/60000 [==============================] - 4s 65us/step - loss: 0.0460 - accuracy: 0.7736\n",
      "Epoch 4/10\n",
      "60000/60000 [==============================] - 4s 63us/step - loss: 0.0337 - accuracy: 0.8293\n",
      "Epoch 5/10\n",
      "60000/60000 [==============================] - 4s 65us/step - loss: 0.0262 - accuracy: 0.8711\n",
      "Epoch 6/10\n",
      "60000/60000 [==============================] - 4s 71us/step - loss: 0.0217 - accuracy: 0.8869\n",
      "Epoch 7/10\n",
      "60000/60000 [==============================] - 4s 69us/step - loss: 0.0189 - accuracy: 0.8964\n",
      "Epoch 8/10\n",
      "60000/60000 [==============================] - 4s 67us/step - loss: 0.0170 - accuracy: 0.9036\n",
      "Epoch 9/10\n",
      "60000/60000 [==============================] - 4s 62us/step - loss: 0.0157 - accuracy: 0.9100\n",
      "Epoch 10/10\n",
      "60000/60000 [==============================] - 4s 63us/step - loss: 0.0146 - accuracy: 0.9151\n"
     ]
    },
    {
     "data": {
      "text/plain": [
       "<keras.callbacks.callbacks.History at 0x171a7df3550>"
      ]
     },
     "execution_count": 29,
     "metadata": {},
     "output_type": "execute_result"
    }
   ],
   "source": [
    "%env KERAS_BACKEND = tensorflow\n",
    "%matplotlib inline\n",
    "\n",
    "# Sequential 不能實做 branch,merge 網路結構, 使用 model API\n",
    "\n",
    "import numpy as np\n",
    "import matplotlib.pyplot as plt\n",
    "\n",
    "# prepare dataset for training and testing\n",
    "\n",
    "from keras.datasets import mnist\n",
    "from keras.utils import np_utils\n",
    "\n",
    "(x_train,y_train),(x_test,y_test)=mnist.load_data()\n",
    "\n",
    "x_train = x_train.reshape(60000,784)\n",
    "x_test =x_test.reshape(10000,784)\n",
    "\n",
    "y_train = np_utils.to_categorical(y_train,10)\n",
    "y_test = np_utils.to_categorical(y_test,10)\n",
    "\n",
    "print('datas : ',x_train.shape,x_test.shape,y_train.shape,y_test.shape)\n",
    "\n",
    "# Model API 只在意 input , output \n",
    "# old structure : 784 -(f1)-> 500 -(f2)-> 500 -(f3)-> 10\n",
    "'''\n",
    "usage : \n",
    "    1. declare layer funtions\n",
    "    2. link layer with varaible\n",
    "    3. declare network input output from step 2\n",
    "'''\n",
    "\n",
    "from keras.models import Model\n",
    "from keras.optimizers import SGD\n",
    "from keras.layers import Input,Dense,Activation\n",
    "\n",
    "f_1 = Dense(500,activation ='sigmoid')\n",
    "f_2 = Dense(500,activation='sigmoid')\n",
    "f_3 = Dense(10,activation = 'softmax')\n",
    "\n",
    "print('f_1 : ',f_1)\n",
    "\n",
    "# 第一層才需定義 input 的 dimension\n",
    "\n",
    "x = Input(shape=(784,))\n",
    "\n",
    "print('x : ',x)\n",
    "\n",
    "h_1 = f_1(x)\n",
    "h_2 = f_2(h_1)\n",
    "y = f_3(h_2)\n",
    "\n",
    "print('h_1 : ',h_1)\n",
    "print('h_2 : ',h_2)\n",
    "print('y : ',y)\n",
    "\n",
    "model =Model(x,y)\n",
    "model.summary()\n",
    "\n",
    "model.compile(loss='mse',optimizer=SGD(lr=0.1),metrics=['accuracy'])\n",
    "model.fit(x_train,y_train,batch_size=100,epochs=10)"
   ]
  },
  {
   "cell_type": "code",
   "execution_count": 30,
   "metadata": {},
   "outputs": [
    {
     "name": "stdout",
     "output_type": "stream",
     "text": [
      "10000/10000 [==============================] - 0s 38us/step\n"
     ]
    },
    {
     "data": {
      "text/plain": [
       "[0.014335448095202446, 0.9140999913215637]"
      ]
     },
     "execution_count": 30,
     "metadata": {},
     "output_type": "execute_result"
    }
   ],
   "source": [
    "model.evaluate(x_test,y_test)"
   ]
  },
  {
   "cell_type": "code",
   "execution_count": null,
   "metadata": {},
   "outputs": [],
   "source": []
  }
 ],
 "metadata": {
  "kernelspec": {
   "display_name": "Python 3",
   "language": "python",
   "name": "python3"
  },
  "language_info": {
   "codemirror_mode": {
    "name": "ipython",
    "version": 3
   },
   "file_extension": ".py",
   "mimetype": "text/x-python",
   "name": "python",
   "nbconvert_exporter": "python",
   "pygments_lexer": "ipython3",
   "version": "3.7.3"
  }
 },
 "nbformat": 4,
 "nbformat_minor": 2
}
