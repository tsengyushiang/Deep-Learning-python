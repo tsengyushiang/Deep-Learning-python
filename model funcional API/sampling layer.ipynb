{
 "cells": [
  {
   "cell_type": "code",
   "execution_count": 37,
   "metadata": {},
   "outputs": [
    {
     "name": "stdout",
     "output_type": "stream",
     "text": [
      "env: KERAS_BACKEND=tensorflow\n",
      "Model: \"model_21\"\n",
      "__________________________________________________________________________________________________\n",
      "Layer (type)                    Output Shape         Param #     Connected to                     \n",
      "==================================================================================================\n",
      "input_46 (InputLayer)           (None, 2)            0                                            \n",
      "__________________________________________________________________________________________________\n",
      "input_47 (InputLayer)           (None, 2)            0                                            \n",
      "__________________________________________________________________________________________________\n",
      "lambda_25 (Lambda)              (None, 2)            0           input_46[0][0]                   \n",
      "                                                                 input_47[0][0]                   \n",
      "==================================================================================================\n",
      "Total params: 0\n",
      "Trainable params: 0\n",
      "Non-trainable params: 0\n",
      "__________________________________________________________________________________________________\n",
      "平均維 (7, 9)\n"
     ]
    },
    {
     "data": {
      "text/plain": [
       "array([[7.449257, 9.811103]], dtype=float32)"
      ]
     },
     "execution_count": 37,
     "metadata": {},
     "output_type": "execute_result"
    }
   ],
   "source": [
    "%env KERAS_BACKEND = tensorflow\n",
    "%matplotlib inline\n",
    "\n",
    "import numpy as np\n",
    "import matplotlib.pyplot as plt\n",
    "\n",
    "from keras.models import Input,Model\n",
    "\n",
    "# pack function to netwrok\n",
    "from keras.layers.core import Lambda\n",
    "\n",
    "# tensorflow 常用的功能\n",
    "from keras import backend as K\n",
    "\n",
    "sampling_dim = 2\n",
    "\n",
    "def sampling(args):\n",
    "    z_mean,z_log_var = args\n",
    "    # 二元標準常態分配\n",
    "    epsilon = K.random_normal(shape=(sampling_dim,),mean=0,stddev=1)\n",
    "    return z_mean+K.exp(z_log_var/2)*epsilon\n",
    "\n",
    "sample_layer = Lambda(sampling,output_shape=(sampling_dim,))\n",
    "\n",
    "m = Input(shape =(sampling_dim,))\n",
    "s = Input(shape =(sampling_dim,))\n",
    "\n",
    "# why not concatenate? becase is Lambda\n",
    "# input mean,varance get sample result\n",
    "z = sample_layer([m,s])\n",
    "\n",
    "sample_model = Model([m,s],z)\n",
    "sample_model.summary()\n",
    "\n",
    "test_mean = np.random.randint(10,size=sampling_dim).reshape(1,2)\n",
    "test_log_var = np.array([[0,0]])\n",
    "\n",
    "print(\"平均維 (%d, %d)\"%(test_mean[0][0],test_mean[0][1]))\n",
    "sample_model.predict([test_mean,test_log_var])"
   ]
  },
  {
   "cell_type": "code",
   "execution_count": 38,
   "metadata": {},
   "outputs": [],
   "source": [
    "#compare with numpy func\n",
    "\n",
    "num_of_samples=100\n",
    "np_sample = np.random.multivariate_normal(test_mean[0],np.identity(2),size=num_of_samples)\n",
    "keras_sample = np.zeros((num_of_samples,2))\n",
    "for i in range(num_of_samples):\n",
    "    keras_sample[i]=sample_model.predict([test_mean,test_log_var])\n",
    "\n",
    "plt.plot(keras_sample[:,0],keras_sample[:,1],'ro')\n",
    "plt.plot(np_sample[:,0],np_sample[:,1],'o')"
   ]
  },
  {
   "cell_type": "code",
   "execution_count": null,
   "metadata": {},
   "outputs": [],
   "source": []
  }
 ],
 "metadata": {
  "kernelspec": {
   "display_name": "Python 3",
   "language": "python",
   "name": "python3"
  },
  "language_info": {
   "codemirror_mode": {
    "name": "ipython",
    "version": 3
   },
   "file_extension": ".py",
   "mimetype": "text/x-python",
   "name": "python",
   "nbconvert_exporter": "python",
   "pygments_lexer": "ipython3",
   "version": "3.7.3"
  }
 },
 "nbformat": 4,
 "nbformat_minor": 2
}
